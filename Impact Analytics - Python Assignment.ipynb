{
 "cells": [
  {
   "cell_type": "code",
   "execution_count": null,
   "id": "a11350f7",
   "metadata": {},
   "outputs": [],
   "source": [
    "'''\n",
    "## Question\n",
    "\n",
    "In a university, your attendance determines whether you will be allowed to attend your graduation ceremony. \n",
    "You are not allowed to miss classes for four or more consecutive days. \n",
    "Your graduation ceremony is on the last day of the academic year, which is the Nth day.\n",
    "\n",
    "Your task is to determine the following:\n",
    "\n",
    "1. The number of ways to attend classes over N days.\n",
    "2. The probability that you will miss your graduation ceremony.\n",
    "Represent the solution in the string format as \"Answer of (2) / Answer of (1)\", don't actually divide or reduce the fraction to decimal\n",
    "\n",
    "Test cases:\n",
    "\n",
    "for 5 days: 14/29\n",
    "\n",
    "for 10 days: 372/773\n",
    "\n",
    " \n",
    "'''"
   ]
  },
  {
   "cell_type": "code",
   "execution_count": 20,
   "id": "7aad8a6c",
   "metadata": {},
   "outputs": [],
   "source": [
    "def binary(n):\n",
    "    return [int(i) for i in list(str(bin(n))[2:])]\n",
    "\n",
    "def listBinary(n):\n",
    "    \n",
    "    l=[]\n",
    "    \n",
    "    for i in range(2**n):\n",
    "        b=binary(i)\n",
    "        pre=[0]*(n-len(b))\n",
    "        b=pre+b\n",
    "        l.append(b)\n",
    "    return(l)\n",
    "\n",
    "def check4zeros(l):\n",
    "    \n",
    "    leng= len(l)\n",
    "    \n",
    "    for i in range(leng-4+1):\n",
    "        c=0\n",
    "        for j in range(i,i+4):\n",
    "            if l[j]==0:\n",
    "                c+=1\n",
    "        if(c==4):\n",
    "            return True\n",
    "    return False\n",
    "            \n",
    "    \n",
    "def ways(l):\n",
    "    t=[]\n",
    "    for i in l:\n",
    "        if check4zeros(i)==False:\n",
    "            t.append(i)\n",
    "    return t\n",
    "\n",
    "def miss(w):\n",
    "    c=0\n",
    "    for i in w:\n",
    "        if i[-1]==0:\n",
    "            c+=1\n",
    "    return c\n",
    "\n"
   ]
  },
  {
   "cell_type": "code",
   "execution_count": 27,
   "id": "c855b17c",
   "metadata": {},
   "outputs": [
    {
     "name": "stdout",
     "output_type": "stream",
     "text": [
      "enter n days : 10\n",
      "solution : 372/773\n"
     ]
    }
   ],
   "source": [
    "n=int(input(\"enter n days : \"))\n",
    "l=listBinary(n)\n",
    "w=ways(l)\n",
    "m=miss(w)\n",
    "\n",
    "print(f'solution : {m}/{len(w)}')\n",
    "\n"
   ]
  },
  {
   "cell_type": "code",
   "execution_count": null,
   "id": "ae7540c8",
   "metadata": {},
   "outputs": [],
   "source": []
  }
 ],
 "metadata": {
  "kernelspec": {
   "display_name": "Python 3 (ipykernel)",
   "language": "python",
   "name": "python3"
  },
  "language_info": {
   "codemirror_mode": {
    "name": "ipython",
    "version": 3
   },
   "file_extension": ".py",
   "mimetype": "text/x-python",
   "name": "python",
   "nbconvert_exporter": "python",
   "pygments_lexer": "ipython3",
   "version": "3.10.8"
  }
 },
 "nbformat": 4,
 "nbformat_minor": 5
}
